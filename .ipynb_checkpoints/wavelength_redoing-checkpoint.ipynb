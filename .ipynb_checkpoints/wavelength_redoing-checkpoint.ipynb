{
 "cells": [
  {
   "cell_type": "code",
   "execution_count": 20,
   "id": "cc2609b3-cb2d-4725-9145-27a3cc4126c7",
   "metadata": {},
   "outputs": [],
   "source": [
    "import time, sys, os\n",
    "import h5py\n",
    "import numpy as np\n",
    "import scipy\n",
    "\n",
    "import numpy as np\n",
    "import time\n",
    "import os\n",
    "\n",
    "from glob import glob\n",
    "from os.path import expanduser\n",
    "from astropy.table import Table, vstack\n",
    "\n",
    "from astropy.cosmology import WMAP9 as cosmo\n",
    "from astropy.cosmology import FlatLambdaCDM, z_at_value\n",
    "import astropy.units as u\n",
    "from astropy.io import fits\n",
    "import pandas as pd"
   ]
  },
  {
   "cell_type": "code",
   "execution_count": 6,
   "id": "253371eb-ebe4-4354-a444-1957eaf44f8d",
   "metadata": {},
   "outputs": [],
   "source": [
    "fitspath = glob('../testthing.fits')\n",
    "hdu = fits.open(fitspath[0])\n",
    "dat = hdu[0].data.copy()\n",
    "head = hdu[0].header.copy()\n",
    "hdu.close()"
   ]
  },
  {
   "cell_type": "code",
   "execution_count": 36,
   "id": "86bf22d2-644c-4be9-a2a0-ad8c3a1dcead",
   "metadata": {},
   "outputs": [],
   "source": [
    "dat_thing = np.array([dat[ii] for ii in range(len(dat))])"
   ]
  },
  {
   "cell_type": "code",
   "execution_count": 41,
   "id": "f654622b-98c5-4015-8c00-e73767ed718c",
   "metadata": {},
   "outputs": [],
   "source": [
    "dat_table = pd.DataFrame(dat_thing,columns=['flux'])"
   ]
  },
  {
   "cell_type": "code",
   "execution_count": 54,
   "id": "12fe327c-2e9b-45f8-bc35-d21bdcbc2fc8",
   "metadata": {},
   "outputs": [],
   "source": [
    "wave_ind = np.array(list(range(len(dat))))+1"
   ]
  },
  {
   "cell_type": "raw",
   "id": "ae28169a-1e90-4018-bb34-339ccf34f535",
   "metadata": {},
   "source": [
    "m*941+b=5.3025\n",
    "m*1+b=0.6025\n",
    "b=0.6025-m\n",
    "\n",
    "941*m+0.6025-m=5.3025\n",
    "940m=5.3025-0.6025\n",
    "y=0.005x+0.5975"
   ]
  },
  {
   "cell_type": "code",
   "execution_count": 59,
   "id": "9e9497fa-9ee0-4950-9849-355e7937eb2b",
   "metadata": {},
   "outputs": [],
   "source": [
    "microns=(wave_ind*0.005)+0.5975"
   ]
  },
  {
   "cell_type": "code",
   "execution_count": 64,
   "id": "d0258803-b90a-42c6-9fb0-7ae7c7789a73",
   "metadata": {},
   "outputs": [],
   "source": [
    "angstrom = 10000*microns"
   ]
  },
  {
   "cell_type": "code",
   "execution_count": 65,
   "id": "88c6b412-3bc4-46c6-ac8c-cb51b8d19856",
   "metadata": {},
   "outputs": [],
   "source": [
    "dat_table['wavelength'] = angstrom"
   ]
  },
  {
   "cell_type": "code",
   "execution_count": 73,
   "id": "4ec989b5-cae8-4082-8688-ed4107aa454b",
   "metadata": {},
   "outputs": [],
   "source": [
    "table=Table([dat_table.wavelength,dat_table.flux],names=['wavelength','flux'])\n",
    "table.write('./testthing_ang.fits',format='fits',overwrite=True)"
   ]
  }
 ],
 "metadata": {
  "kernelspec": {
   "display_name": "Python 3 (ipykernel)",
   "language": "python",
   "name": "python3"
  },
  "language_info": {
   "codemirror_mode": {
    "name": "ipython",
    "version": 3
   },
   "file_extension": ".py",
   "mimetype": "text/x-python",
   "name": "python",
   "nbconvert_exporter": "python",
   "pygments_lexer": "ipython3",
   "version": "3.9.21"
  }
 },
 "nbformat": 4,
 "nbformat_minor": 5
}
